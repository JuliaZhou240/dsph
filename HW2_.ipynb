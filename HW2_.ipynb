{
  "nbformat": 4,
  "nbformat_minor": 0,
  "metadata": {
    "colab": {
      "provenance": [],
      "authorship_tag": "ABX9TyPaFVGs8JdfeEsBNK1LvRRt",
      "include_colab_link": true
    },
    "kernelspec": {
      "name": "python3",
      "display_name": "Python 3"
    },
    "language_info": {
      "name": "python"
    }
  },
  "cells": [
    {
      "cell_type": "markdown",
      "metadata": {
        "id": "view-in-github",
        "colab_type": "text"
      },
      "source": [
        "<a href=\"https://colab.research.google.com/github/JuliaZhou240/dsph/blob/main/HW2_.ipynb\" target=\"_parent\"><img src=\"https://colab.research.google.com/assets/colab-badge.svg\" alt=\"Open In Colab\"/></a>"
      ]
    },
    {
      "cell_type": "code",
      "execution_count": null,
      "metadata": {
        "id": "QVbxVdmLTX2j"
      },
      "outputs": [],
      "source": [
        "# Question 1: sorting_hat program\n",
        "def sorting_hat():\n",
        "    print(\"Welcome to the Hogwarts Sorting Hat!\")\n",
        "\n",
        "    q1 = input(\"Do you value bravery over cunning? (Y/N): \").strip().upper()\n",
        "    q2 = input(\"Would you rather lead than follow? (Y/N): \").strip().upper()\n",
        "\n",
        "    if q1 == \"Y\" and q2 == \"N\":\n",
        "        return \"Gryffindor!\"\n",
        "    elif q1 == \"N\" and q2 == \"Y\":\n",
        "        return \"Slytherin!\"\n",
        "    elif q1 == \"Y\" and q2 == \"Y\":\n",
        "        return \"Gryffindor, but you have leadership qualities!\"\n",
        "    else:\n",
        "        return \"Slytherin, but you have a strategic mind!\"\n",
        "hat = sorting_hat()\n",
        "print(f\"The Sorting Hat has placed you in... {hat}\")\n",
        "\n",
        "# Question 2: mydata class\n",
        "class myData:\n",
        "    def __init__(self, numbers):\n",
        "        self.numbers = numbers\n",
        "\n",
        "    def mean(self):\n",
        "        return sum(self.numbers) / len(self.numbers) if self.numbers else 0\n",
        "\n",
        "    def std(self):\n",
        "        mean_value = self.mean()\n",
        "        variance = sum((x - mean_value) ** 2 for x in self.numbers) / len(self.numbers)\n",
        "        return variance ** 0.5\n",
        "print(\"For question 2, Let's try it out with the given numbers\")\n",
        "x = myData([1, 2, 7, 5])\n",
        "print(\"Mean:\", x.mean())\n",
        "print(\"Standard Deviation:\", x.std())\n",
        "\n",
        "# Question 3: lag function\n",
        "import numpy\n",
        "\n",
        "def lag(arr, n):\n",
        "    if n <= 0:\n",
        "        raise ValueError(\"n must be greater than 0\")\n",
        "\n",
        "    lagged_array = numpy.empty_like(arr, dtype=float)\n",
        "    lagged_array[:n] = numpy.nan\n",
        "    lagged_array[n:] = arr[:-n]\n",
        "\n",
        "    return lagged_array\n",
        "# Example usage:\n",
        "print(\"For question 3, Let's try it out with the given numbers\")\n",
        "a = numpy.array([1, 6, 8, 4])\n",
        "print(lag(a, 1))\n",
        "print(lag(a, 2))\n",
        "\n",
        "# Question 4: myData class\n",
        "import numpy\n",
        "\n",
        "def lagGenerator(n):\n",
        "    if n <= 0:\n",
        "        raise ValueError(\"n must be greater than 0\")\n",
        "\n",
        "    return lambda arr: numpy.concatenate((numpy.full(n, numpy.nan), arr[:-n]))\n",
        "\n",
        "# Example usage:\n",
        "print(\"For question 4, Let's try it out with the given numbers\")\n",
        "lag_by_2 = lagGenerator(2)\n",
        "a = numpy.array([1, 6, 8, 4])\n",
        "lag_by_3 = lagGenerator(3)\n",
        "b = numpy.array([1, 6, 8, 4])\n",
        "\n",
        "print(lag_by_2(a))\n",
        "print(lag_by_3(b))"
      ]
    }
  ]
}